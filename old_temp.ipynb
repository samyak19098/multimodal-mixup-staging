{
 "cells": [
  {
   "cell_type": "code",
   "execution_count": 21,
   "metadata": {},
   "outputs": [],
   "source": [
    "import pandas as pd\n",
    "import numpy as np"
   ]
  },
  {
   "cell_type": "code",
   "execution_count": 22,
   "metadata": {},
   "outputs": [
    {
     "data": {
      "text/html": [
       "<div>\n",
       "<style scoped>\n",
       "    .dataframe tbody tr th:only-of-type {\n",
       "        vertical-align: middle;\n",
       "    }\n",
       "\n",
       "    .dataframe tbody tr th {\n",
       "        vertical-align: top;\n",
       "    }\n",
       "\n",
       "    .dataframe thead th {\n",
       "        text-align: right;\n",
       "    }\n",
       "</style>\n",
       "<table border=\"1\" class=\"dataframe\">\n",
       "  <thead>\n",
       "    <tr style=\"text-align: right;\">\n",
       "      <th></th>\n",
       "      <th>File Name</th>\n",
       "      <th>Date</th>\n",
       "      <th>YT3</th>\n",
       "      <th>YT7</th>\n",
       "      <th>YT15</th>\n",
       "    </tr>\n",
       "  </thead>\n",
       "  <tbody>\n",
       "    <tr>\n",
       "      <th>0</th>\n",
       "      <td>A_ArchrockInc_ArchrockPartnersLP.pdf</td>\n",
       "      <td>1/2/2018</td>\n",
       "      <td>0</td>\n",
       "      <td>1</td>\n",
       "      <td>1</td>\n",
       "    </tr>\n",
       "    <tr>\n",
       "      <th>1</th>\n",
       "      <td>A_CommercialMetalsCo_USRebarAssetsFromGerdau.pdf</td>\n",
       "      <td>1/2/2018</td>\n",
       "      <td>1</td>\n",
       "      <td>1</td>\n",
       "      <td>1</td>\n",
       "    </tr>\n",
       "    <tr>\n",
       "      <th>2</th>\n",
       "      <td>M_DominionEnergyInc_SCANACorp.pdf</td>\n",
       "      <td>1/3/2018</td>\n",
       "      <td>1</td>\n",
       "      <td>0</td>\n",
       "      <td>0</td>\n",
       "    </tr>\n",
       "    <tr>\n",
       "      <th>3</th>\n",
       "      <td>A_Noble EnergyIncsInterestInCONEMidstreamPartn...</td>\n",
       "      <td>1/4/2018</td>\n",
       "      <td>0</td>\n",
       "      <td>0</td>\n",
       "      <td>0</td>\n",
       "    </tr>\n",
       "    <tr>\n",
       "      <th>4</th>\n",
       "      <td>A_VIPPetcare_PetIQInc.pdf</td>\n",
       "      <td>1/8/2018</td>\n",
       "      <td>1</td>\n",
       "      <td>1</td>\n",
       "      <td>1</td>\n",
       "    </tr>\n",
       "    <tr>\n",
       "      <th>...</th>\n",
       "      <td>...</td>\n",
       "      <td>...</td>\n",
       "      <td>...</td>\n",
       "      <td>...</td>\n",
       "      <td>...</td>\n",
       "    </tr>\n",
       "    <tr>\n",
       "      <th>811</th>\n",
       "      <td>A_ZyngaInc_SmallGiantGames.pdf</td>\n",
       "      <td>12/20/2018</td>\n",
       "      <td>1</td>\n",
       "      <td>1</td>\n",
       "      <td>1</td>\n",
       "    </tr>\n",
       "    <tr>\n",
       "      <th>812</th>\n",
       "      <td>A_ArrisInternationalPLC_RuckusWireless&amp;ICXSwit...</td>\n",
       "      <td>12/14/2017</td>\n",
       "      <td>0</td>\n",
       "      <td>0</td>\n",
       "      <td>0</td>\n",
       "    </tr>\n",
       "    <tr>\n",
       "      <th>813</th>\n",
       "      <td>A_CraneCo_Crane&amp;Co.pdf</td>\n",
       "      <td>12/6/2017</td>\n",
       "      <td>0</td>\n",
       "      <td>0</td>\n",
       "      <td>1</td>\n",
       "    </tr>\n",
       "    <tr>\n",
       "      <th>814</th>\n",
       "      <td>A_GoldenEntertainment_AmericanCasino&amp;Entertain...</td>\n",
       "      <td>6/12/2017</td>\n",
       "      <td>1</td>\n",
       "      <td>1</td>\n",
       "      <td>1</td>\n",
       "    </tr>\n",
       "    <tr>\n",
       "      <th>815</th>\n",
       "      <td>A_Deere&amp;Company_WirtgenGroup.pdf</td>\n",
       "      <td>6/1/2017</td>\n",
       "      <td>1</td>\n",
       "      <td>1</td>\n",
       "      <td>0</td>\n",
       "    </tr>\n",
       "  </tbody>\n",
       "</table>\n",
       "<p>816 rows × 5 columns</p>\n",
       "</div>"
      ],
      "text/plain": [
       "                                             File Name        Date  YT3  YT7  \\\n",
       "0                 A_ArchrockInc_ArchrockPartnersLP.pdf    1/2/2018    0    1   \n",
       "1     A_CommercialMetalsCo_USRebarAssetsFromGerdau.pdf    1/2/2018    1    1   \n",
       "2                    M_DominionEnergyInc_SCANACorp.pdf    1/3/2018    1    0   \n",
       "3    A_Noble EnergyIncsInterestInCONEMidstreamPartn...    1/4/2018    0    0   \n",
       "4                            A_VIPPetcare_PetIQInc.pdf    1/8/2018    1    1   \n",
       "..                                                 ...         ...  ...  ...   \n",
       "811                     A_ZyngaInc_SmallGiantGames.pdf  12/20/2018    1    1   \n",
       "812  A_ArrisInternationalPLC_RuckusWireless&ICXSwit...  12/14/2017    0    0   \n",
       "813                             A_CraneCo_Crane&Co.pdf   12/6/2017    0    0   \n",
       "814  A_GoldenEntertainment_AmericanCasino&Entertain...   6/12/2017    1    1   \n",
       "815                   A_Deere&Company_WirtgenGroup.pdf    6/1/2017    1    1   \n",
       "\n",
       "     YT15  \n",
       "0       1  \n",
       "1       1  \n",
       "2       0  \n",
       "3       0  \n",
       "4       1  \n",
       "..    ...  \n",
       "811     1  \n",
       "812     0  \n",
       "813     1  \n",
       "814     1  \n",
       "815     0  \n",
       "\n",
       "[816 rows x 5 columns]"
      ]
     },
     "execution_count": 22,
     "metadata": {},
     "output_type": "execute_result"
    }
   ],
   "source": [
    "d_mov = pd.read_csv('m3a/Y_Movement.csv')\n",
    "d_mov"
   ]
  },
  {
   "cell_type": "code",
   "execution_count": 26,
   "metadata": {},
   "outputs": [],
   "source": [
    "train_idx = pd.read_csv('m3a/Train_index.csv')\n",
    "train_idx = train_idx['index'].to_numpy()\n",
    "test_idx = pd.read_csv('m3a/Test_index.csv')\n",
    "test_idx = test_idx['index'].to_numpy()"
   ]
  },
  {
   "cell_type": "code",
   "execution_count": 29,
   "metadata": {},
   "outputs": [],
   "source": [
    "df_train = d_mov.iloc[train_idx]\n",
    "df_test = d_mov.iloc[test_idx]"
   ]
  },
  {
   "cell_type": "code",
   "execution_count": 31,
   "metadata": {},
   "outputs": [
    {
     "name": "stdout",
     "output_type": "stream",
     "text": [
      "(array([0, 1], dtype=int64), array([314, 383], dtype=int64))\n",
      "(array([0, 1], dtype=int64), array([63, 56], dtype=int64))\n"
     ]
    }
   ],
   "source": [
    "print(np.unique(df_train['YT3'], return_counts=True))\n",
    "print(np.unique(df_test['YT3'], return_counts=True))"
   ]
  },
  {
   "cell_type": "code",
   "execution_count": 33,
   "metadata": {},
   "outputs": [
    {
     "name": "stdout",
     "output_type": "stream",
     "text": [
      "0.5294117647058824\n",
      "0.45050215208034433\n"
     ]
    }
   ],
   "source": [
    "print(63 / (63 + 56))\n",
    "print(314 / (314 + 383))"
   ]
  },
  {
   "cell_type": "code",
   "execution_count": null,
   "metadata": {},
   "outputs": [],
   "source": [
    "print(Y_Train)"
   ]
  },
  {
   "cell_type": "code",
   "execution_count": 16,
   "metadata": {},
   "outputs": [],
   "source": [
    "recs = []\n",
    "for i in range(1, 6):\n",
    "    recs.append([i, f's{i}', 0.1*i])"
   ]
  },
  {
   "cell_type": "code",
   "execution_count": 17,
   "metadata": {},
   "outputs": [
    {
     "data": {
      "text/html": [
       "<div>\n",
       "<style scoped>\n",
       "    .dataframe tbody tr th:only-of-type {\n",
       "        vertical-align: middle;\n",
       "    }\n",
       "\n",
       "    .dataframe tbody tr th {\n",
       "        vertical-align: top;\n",
       "    }\n",
       "\n",
       "    .dataframe thead th {\n",
       "        text-align: right;\n",
       "    }\n",
       "</style>\n",
       "<table border=\"1\" class=\"dataframe\">\n",
       "  <thead>\n",
       "    <tr style=\"text-align: right;\">\n",
       "      <th></th>\n",
       "      <th>c1</th>\n",
       "      <th>c2</th>\n",
       "      <th>c3</th>\n",
       "    </tr>\n",
       "  </thead>\n",
       "  <tbody>\n",
       "    <tr>\n",
       "      <th>0</th>\n",
       "      <td>1</td>\n",
       "      <td>s1</td>\n",
       "      <td>0.1</td>\n",
       "    </tr>\n",
       "    <tr>\n",
       "      <th>1</th>\n",
       "      <td>2</td>\n",
       "      <td>s2</td>\n",
       "      <td>0.2</td>\n",
       "    </tr>\n",
       "    <tr>\n",
       "      <th>2</th>\n",
       "      <td>3</td>\n",
       "      <td>s3</td>\n",
       "      <td>0.3</td>\n",
       "    </tr>\n",
       "    <tr>\n",
       "      <th>3</th>\n",
       "      <td>4</td>\n",
       "      <td>s4</td>\n",
       "      <td>0.4</td>\n",
       "    </tr>\n",
       "    <tr>\n",
       "      <th>4</th>\n",
       "      <td>5</td>\n",
       "      <td>s5</td>\n",
       "      <td>0.5</td>\n",
       "    </tr>\n",
       "  </tbody>\n",
       "</table>\n",
       "</div>"
      ],
      "text/plain": [
       "   c1  c2   c3\n",
       "0   1  s1  0.1\n",
       "1   2  s2  0.2\n",
       "2   3  s3  0.3\n",
       "3   4  s4  0.4\n",
       "4   5  s5  0.5"
      ]
     },
     "execution_count": 17,
     "metadata": {},
     "output_type": "execute_result"
    }
   ],
   "source": [
    "d1 = pd.DataFrame(recs, columns=['c1', 'c2', 'c3'])\n",
    "d1"
   ]
  },
  {
   "cell_type": "code",
   "execution_count": 15,
   "metadata": {},
   "outputs": [
    {
     "name": "stdout",
     "output_type": "stream",
     "text": [
      "(5,)\n",
      "[30 10 50 40 20]\n"
     ]
    }
   ],
   "source": [
    "a = np.array([10, 20, 30, 40, 50])\n",
    "print(a.shape)\n",
    "print(a[perm1])"
   ]
  },
  {
   "cell_type": "code",
   "execution_count": 18,
   "metadata": {},
   "outputs": [
    {
     "name": "stdout",
     "output_type": "stream",
     "text": [
      "[4 2 1 0 3]\n"
     ]
    }
   ],
   "source": [
    "perm1 = np.random.permutation(5)\n",
    "print(perm1)"
   ]
  },
  {
   "cell_type": "code",
   "execution_count": 19,
   "metadata": {},
   "outputs": [
    {
     "name": "stdout",
     "output_type": "stream",
     "text": [
      "   c1  c2   c3\n",
      "4   5  s5  0.5\n",
      "2   3  s3  0.3\n",
      "1   2  s2  0.2\n",
      "0   1  s1  0.1\n",
      "3   4  s4  0.4\n"
     ]
    }
   ],
   "source": [
    "d2 = d1.iloc[perm1]\n",
    "print(d2)"
   ]
  },
  {
   "cell_type": "code",
   "execution_count": null,
   "metadata": {},
   "outputs": [],
   "source": [
    "import tensorflow as tf\n",
    "\n",
    "inputs = tf.keras.Input(shape=(3,))\n",
    "x = tf.keras.layers.Dense(4, activation=tf.nn.relu)(inputs)\n",
    "outputs = tf.keras.layers.Dense(5, activation=tf.nn.softmax)(x)\n",
    "model = tf.keras.Model(inputs=inputs, outputs=outputs)"
   ]
  },
  {
   "cell_type": "code",
   "execution_count": null,
   "metadata": {},
   "outputs": [],
   "source": [
    "out = model()"
   ]
  },
  {
   "cell_type": "code",
   "execution_count": null,
   "metadata": {},
   "outputs": [],
   "source": [
    "import tensorflow as tf\n",
    "\n",
    "inputs = tf.keras.Input(shape=(3,))\n",
    "x = tf.keras.layers.Dense(4, activation=tf.nn.relu)(inputs)\n",
    "outputs = tf.keras.layers.Dense(5, activation=tf.nn.softmax)(x)\n",
    "model = tf.keras.Model(inputs=inputs, outputs=outputs)"
   ]
  },
  {
   "cell_type": "code",
   "execution_count": 10,
   "metadata": {},
   "outputs": [],
   "source": [
    "import numpy as np"
   ]
  },
  {
   "cell_type": "code",
   "execution_count": null,
   "metadata": {},
   "outputs": [],
   "source": [
    "out = mode"
   ]
  },
  {
   "cell_type": "code",
   "execution_count": 13,
   "metadata": {},
   "outputs": [
    {
     "ename": "ValueError",
     "evalue": "in user code:\n\n    File \"c:\\Users\\samyj\\miniconda3\\envs\\dmg_env\\lib\\site-packages\\keras\\engine\\training.py\", line 1284, in train_function  *\n        return step_function(self, iterator)\n    File \"c:\\Users\\samyj\\miniconda3\\envs\\dmg_env\\lib\\site-packages\\keras\\engine\\training.py\", line 1268, in step_function  **\n        outputs = model.distribute_strategy.run(run_step, args=(data,))\n    File \"c:\\Users\\samyj\\miniconda3\\envs\\dmg_env\\lib\\site-packages\\keras\\engine\\training.py\", line 1249, in run_step  **\n        outputs = model.train_step(data)\n    File \"c:\\Users\\samyj\\miniconda3\\envs\\dmg_env\\lib\\site-packages\\keras\\engine\\training.py\", line 1050, in train_step\n        y_pred = self(x, training=True)\n    File \"c:\\Users\\samyj\\miniconda3\\envs\\dmg_env\\lib\\site-packages\\keras\\utils\\traceback_utils.py\", line 70, in error_handler\n        raise e.with_traceback(filtered_tb) from None\n    File \"c:\\Users\\samyj\\miniconda3\\envs\\dmg_env\\lib\\site-packages\\keras\\engine\\input_spec.py\", line 253, in assert_input_compatibility\n        raise ValueError(\n\n    ValueError: Exception encountered when calling layer 'model' (type Functional).\n    \n    Input 0 of layer \"dense\" is incompatible with the layer: expected min_ndim=2, found ndim=1. Full shape received: (None,)\n    \n    Call arguments received by layer 'model' (type Functional):\n      • inputs=tf.Tensor(shape=(None,), dtype=int32)\n      • training=True\n      • mask=None\n",
     "output_type": "error",
     "traceback": [
      "\u001b[1;31m---------------------------------------------------------------------------\u001b[0m",
      "\u001b[1;31mValueError\u001b[0m                                Traceback (most recent call last)",
      "\u001b[1;32mc:\\Users\\samyj\\Desktop\\MM-Mix\\multimodal-mixup-staging\\temp.ipynb Cell 5\u001b[0m in \u001b[0;36m2\n\u001b[0;32m      <a href='vscode-notebook-cell:/c%3A/Users/samyj/Desktop/MM-Mix/multimodal-mixup-staging/temp.ipynb#X11sZmlsZQ%3D%3D?line=0'>1</a>\u001b[0m model\u001b[39m.\u001b[39mcompile()\n\u001b[1;32m----> <a href='vscode-notebook-cell:/c%3A/Users/samyj/Desktop/MM-Mix/multimodal-mixup-staging/temp.ipynb#X11sZmlsZQ%3D%3D?line=1'>2</a>\u001b[0m out \u001b[39m=\u001b[39m model\u001b[39m.\u001b[39;49mfit(np\u001b[39m.\u001b[39;49marray([\u001b[39m1\u001b[39;49m, \u001b[39m2\u001b[39;49m, \u001b[39m3\u001b[39;49m]))\n",
      "File \u001b[1;32mc:\\Users\\samyj\\miniconda3\\envs\\dmg_env\\lib\\site-packages\\keras\\utils\\traceback_utils.py:70\u001b[0m, in \u001b[0;36mfilter_traceback.<locals>.error_handler\u001b[1;34m(*args, **kwargs)\u001b[0m\n\u001b[0;32m     67\u001b[0m     filtered_tb \u001b[39m=\u001b[39m _process_traceback_frames(e\u001b[39m.\u001b[39m__traceback__)\n\u001b[0;32m     68\u001b[0m     \u001b[39m# To get the full stack trace, call:\u001b[39;00m\n\u001b[0;32m     69\u001b[0m     \u001b[39m# `tf.debugging.disable_traceback_filtering()`\u001b[39;00m\n\u001b[1;32m---> 70\u001b[0m     \u001b[39mraise\u001b[39;00m e\u001b[39m.\u001b[39mwith_traceback(filtered_tb) \u001b[39mfrom\u001b[39;00m \u001b[39mNone\u001b[39m\n\u001b[0;32m     71\u001b[0m \u001b[39mfinally\u001b[39;00m:\n\u001b[0;32m     72\u001b[0m     \u001b[39mdel\u001b[39;00m filtered_tb\n",
      "File \u001b[1;32m~\\AppData\\Local\\Temp\\__autograph_generated_file9itxu4cx.py:15\u001b[0m, in \u001b[0;36mouter_factory.<locals>.inner_factory.<locals>.tf__train_function\u001b[1;34m(iterator)\u001b[0m\n\u001b[0;32m     13\u001b[0m \u001b[39mtry\u001b[39;00m:\n\u001b[0;32m     14\u001b[0m     do_return \u001b[39m=\u001b[39m \u001b[39mTrue\u001b[39;00m\n\u001b[1;32m---> 15\u001b[0m     retval_ \u001b[39m=\u001b[39m ag__\u001b[39m.\u001b[39mconverted_call(ag__\u001b[39m.\u001b[39mld(step_function), (ag__\u001b[39m.\u001b[39mld(\u001b[39mself\u001b[39m), ag__\u001b[39m.\u001b[39mld(iterator)), \u001b[39mNone\u001b[39;00m, fscope)\n\u001b[0;32m     16\u001b[0m \u001b[39mexcept\u001b[39;00m:\n\u001b[0;32m     17\u001b[0m     do_return \u001b[39m=\u001b[39m \u001b[39mFalse\u001b[39;00m\n",
      "\u001b[1;31mValueError\u001b[0m: in user code:\n\n    File \"c:\\Users\\samyj\\miniconda3\\envs\\dmg_env\\lib\\site-packages\\keras\\engine\\training.py\", line 1284, in train_function  *\n        return step_function(self, iterator)\n    File \"c:\\Users\\samyj\\miniconda3\\envs\\dmg_env\\lib\\site-packages\\keras\\engine\\training.py\", line 1268, in step_function  **\n        outputs = model.distribute_strategy.run(run_step, args=(data,))\n    File \"c:\\Users\\samyj\\miniconda3\\envs\\dmg_env\\lib\\site-packages\\keras\\engine\\training.py\", line 1249, in run_step  **\n        outputs = model.train_step(data)\n    File \"c:\\Users\\samyj\\miniconda3\\envs\\dmg_env\\lib\\site-packages\\keras\\engine\\training.py\", line 1050, in train_step\n        y_pred = self(x, training=True)\n    File \"c:\\Users\\samyj\\miniconda3\\envs\\dmg_env\\lib\\site-packages\\keras\\utils\\traceback_utils.py\", line 70, in error_handler\n        raise e.with_traceback(filtered_tb) from None\n    File \"c:\\Users\\samyj\\miniconda3\\envs\\dmg_env\\lib\\site-packages\\keras\\engine\\input_spec.py\", line 253, in assert_input_compatibility\n        raise ValueError(\n\n    ValueError: Exception encountered when calling layer 'model' (type Functional).\n    \n    Input 0 of layer \"dense\" is incompatible with the layer: expected min_ndim=2, found ndim=1. Full shape received: (None,)\n    \n    Call arguments received by layer 'model' (type Functional):\n      • inputs=tf.Tensor(shape=(None,), dtype=int32)\n      • training=True\n      • mask=None\n"
     ]
    }
   ],
   "source": [
    "model.compile()\n",
    "out = model.fit(np.array([1, 2, 3]))"
   ]
  },
  {
   "attachments": {},
   "cell_type": "markdown",
   "metadata": {},
   "source": [
    "Yahoo Finance"
   ]
  },
  {
   "cell_type": "code",
   "execution_count": 2,
   "metadata": {},
   "outputs": [],
   "source": [
    "import yfinance as yf\n",
    "import numpy as np"
   ]
  },
  {
   "cell_type": "code",
   "execution_count": 3,
   "metadata": {},
   "outputs": [
    {
     "name": "stdout",
     "output_type": "stream",
     "text": [
      "{'address1': '63 Second Avenue', 'city': 'Burlington', 'state': 'MA', 'zip': '01803', 'country': 'United States', 'phone': '781 221 2266', 'fax': '781 221 2223', 'website': 'https://www.lemaitre.com', 'industry': 'Medical Instruments & Supplies', 'sector': 'Healthcare', 'longBusinessSummary': \"LeMaitre Vascular, Inc. designs, markets, sells, services, and supports medical devices and implants for the treatment of peripheral vascular disease worldwide. It offers restoreflow allografts; angioscope, a fiberoptic catheter used for viewing the lumen of a blood vessel; embolectomy catheters to remove blood clots from arteries or veins; thrombectomy catheters for removing thrombi in the venous system; occlusion catheters that temporarily occlude the blood flow; perfusion catheters to perfuse the blood and other fluids into the vasculature; and thrombectomy catheters, which features a silicone balloon for removing thrombi in the venous system. The company also provides artegraft biologic graft, a bovine carotid artery used for dialysis access in patients with or without a previously-failed synthetic graft; carotid shunts that temporarily shunt the blood to the brain during the removal of plaque from the carotid artery in a carotid endarterectomy surgery; and radiopaque tape, a medical-grade tape applied to the skin that enables interventionists to cross-refer between the inside and the outside of a patient's body, and allows them to locate tributaries or lesions beneath the skin. In addition, it offers valvulotomes, which cut or disrupt valves in the saphenous vein to function as an artery to carry blood past diseased arteries to the lower leg or the foot; and vascular grafts to bypass or replace diseased arteries. Further, the company provides vascular and cardiac patches, which are used for closure of vessels after surgical intervention; and closure systems to attach vessels to one another with titanium clips instead of sutures. It markets its products through a direct sales force and distributors. The company was formerly known as Vascutech, Inc. and changed its name to LeMaitre Vascular, Inc. in April 2001. LeMaitre Vascular, Inc. was incorporated in 1983 and is headquartered in Burlington, Massachusetts.\", 'fullTimeEmployees': 591, 'companyOfficers': [{'maxAge': 1, 'name': 'Mr. George W. LeMaitre', 'age': 57, 'title': 'Chairman & CEO', 'yearBorn': 1965, 'fiscalYear': 2021, 'totalPay': 882030, 'exercisedValue': 2268163, 'unexercisedValue': 0}, {'maxAge': 1, 'name': 'Mr. David B. Roberts', 'age': 58, 'title': 'Pres & Director', 'yearBorn': 1964, 'fiscalYear': 2021, 'totalPay': 603007, 'exercisedValue': 753917, 'unexercisedValue': 988279}, {'maxAge': 1, 'name': 'Mr. Joseph P. Pellegrino Jr.', 'age': 57, 'title': 'CFO, Treasurer, Sec. & Director', 'yearBorn': 1965, 'fiscalYear': 2021, 'totalPay': 518595, 'exercisedValue': 30042, 'unexercisedValue': 766973}, {'maxAge': 1, 'name': 'Mr. Trent G. Kamke', 'age': 51, 'title': 'Sr. VP of Operations', 'yearBorn': 1971, 'fiscalYear': 2021, 'totalPay': 368616, 'exercisedValue': 921275, 'unexercisedValue': 266550}, {'maxAge': 1, 'name': 'Dr. George D. LeMaitre', 'age': 88, 'title': 'Founder and Chairman of Scientific Advisory Board', 'yearBorn': 1934, 'fiscalYear': 2012, 'exercisedValue': 0, 'unexercisedValue': 0}, {'maxAge': 1, 'name': 'Ms. Kimberly L. Cieslak', 'age': 49, 'title': 'VP of Marketing', 'yearBorn': 1973, 'exercisedValue': 0, 'unexercisedValue': 0}, {'maxAge': 1, 'name': 'Mr. Daniel J. Mumford', 'age': 40, 'title': 'Director of HR', 'yearBorn': 1982, 'exercisedValue': 0, 'unexercisedValue': 0}, {'maxAge': 1, 'name': 'Mr. Andrew  Hodgkinson', 'age': 46, 'title': 'Sr. VP of Clinical, Regulatory & Quality Affairs', 'yearBorn': 1976, 'exercisedValue': 0, 'unexercisedValue': 0}, {'maxAge': 1, 'name': 'Mr. Stephane  Maier', 'age': 46, 'title': 'Sr. VP of EMEA Operations', 'yearBorn': 1976, 'exercisedValue': 0, 'unexercisedValue': 0}], 'auditRisk': 9, 'boardRisk': 9, 'compensationRisk': 6, 'shareHolderRightsRisk': 7, 'overallRisk': 8, 'governanceEpochDate': 1680307200, 'compensationAsOfEpochDate': 1640908800, 'maxAge': 86400, 'priceHint': 2, 'previousClose': 53.365, 'open': 53.32, 'dayLow': 52.4416, 'dayHigh': 53.52, 'regularMarketPreviousClose': 53.365, 'regularMarketOpen': 53.32, 'regularMarketDayLow': 52.4416, 'regularMarketDayHigh': 53.52, 'dividendRate': 0.56, 'dividendYield': 0.0105, 'exDividendDate': 1678233600, 'payoutRatio': 0.5376, 'fiveYearAvgDividendYield': 0.97, 'beta': 0.979305, 'trailingPE': 56.548386, 'forwardPE': 38.955555, 'volume': 39473, 'regularMarketVolume': 39473, 'averageVolume': 87201, 'averageVolume10days': 77240, 'averageDailyVolume10Day': 77240, 'bid': 21.03, 'ask': 55.0, 'bidSize': 800, 'askSize': 800, 'marketCap': 1162097024, 'fiftyTwoWeekLow': 38.32, 'fiftyTwoWeekHigh': 56.38, 'priceToSalesTrailing12Months': 7.1889253, 'fiftyDayAverage': 50.2414, 'twoHundredDayAverage': 48.59865, 'trailingAnnualDividendRate': 0.5, 'trailingAnnualDividendYield': 0.009369437, 'currency': 'USD', 'enterpriseValue': 1113127680, 'profitMargins': 0.12765999, 'floatShares': 19515897, 'sharesOutstanding': 22097300, 'sharesShort': 576492, 'sharesShortPriorMonth': 608016, 'sharesShortPreviousMonthDate': 1677542400, 'dateShortInterest': 1680220800, 'sharesPercentSharesOut': 0.026099999, 'heldPercentInsiders': 0.11712, 'heldPercentInstitutions': 0.87477994, 'shortRatio': 6.16, 'shortPercentOfFloat': 0.0353, 'impliedSharesOutstanding': 0, 'bookValue': 12.143, 'priceToBook': 4.33089, 'lastFiscalYearEnd': 1672444800, 'nextFiscalYearEnd': 1703980800, 'mostRecentQuarter': 1672444800, 'earningsQuarterlyGrowth': -0.089, 'netIncomeToCommon': 20636000, 'trailingEps': 0.93, 'forwardEps': 1.35, 'pegRatio': 17.69, 'enterpriseToRevenue': 6.886, 'enterpriseToEbitda': 28.274, '52WeekChange': 0.14775205, 'SandP52WeekChange': -0.057847917, 'lastDividendValue': 0.14, 'lastDividendDate': 1678233600, 'exchange': 'NGM', 'quoteType': 'EQUITY', 'symbol': 'LMAT', 'underlyingSymbol': 'LMAT', 'shortName': 'LeMaitre Vascular, Inc.', 'longName': 'LeMaitre Vascular, Inc.', 'firstTradeDateEpochUtc': 1161264600, 'timeZoneFullName': 'America/New_York', 'timeZoneShortName': 'EDT', 'uuid': '28d61f2c-4092-3ada-aee0-a8b5dc08f289', 'messageBoardId': 'finmb_2567538', 'gmtOffSetMilliseconds': -14400000, 'currentPrice': 52.59, 'targetHighPrice': 70.0, 'targetLowPrice': 48.0, 'targetMeanPrice': 58.2, 'targetMedianPrice': 57.0, 'recommendationMean': 2.3, 'recommendationKey': 'buy', 'numberOfAnalystOpinions': 5, 'totalCash': 82691000, 'totalCashPerShare': 3.742, 'ebitda': 39369000, 'totalDebt': 16596000, 'quickRatio': 4.135, 'currentRatio': 6.385, 'totalRevenue': 161651008, 'debtToEquity': 6.188, 'revenuePerShare': 7.356, 'returnOnAssets': 0.062030002, 'returnOnEquity': 0.07901, 'grossProfits': 104896000, 'freeCashflow': 23469000, 'operatingCashflow': 25378000, 'earningsGrowth': -0.081, 'revenueGrowth': 0.037, 'grossMargins': 0.6489, 'ebitdaMargins': 0.24354, 'operatingMargins': 0.18518999, 'financialCurrency': 'USD', 'trailingPegRatio': 1.9511}\n"
     ]
    }
   ],
   "source": [
    "lmat = yf.Ticker('LMAT')\n",
    "print(lmat.info)"
   ]
  },
  {
   "cell_type": "code",
   "execution_count": 5,
   "metadata": {},
   "outputs": [
    {
     "data": {
      "text/html": [
       "<div>\n",
       "<style scoped>\n",
       "    .dataframe tbody tr th:only-of-type {\n",
       "        vertical-align: middle;\n",
       "    }\n",
       "\n",
       "    .dataframe tbody tr th {\n",
       "        vertical-align: top;\n",
       "    }\n",
       "\n",
       "    .dataframe thead th {\n",
       "        text-align: right;\n",
       "    }\n",
       "</style>\n",
       "<table border=\"1\" class=\"dataframe\">\n",
       "  <thead>\n",
       "    <tr style=\"text-align: right;\">\n",
       "      <th></th>\n",
       "      <th>Open</th>\n",
       "      <th>High</th>\n",
       "      <th>Low</th>\n",
       "      <th>Close</th>\n",
       "      <th>Volume</th>\n",
       "      <th>Dividends</th>\n",
       "      <th>Stock Splits</th>\n",
       "    </tr>\n",
       "    <tr>\n",
       "      <th>Date</th>\n",
       "      <th></th>\n",
       "      <th></th>\n",
       "      <th></th>\n",
       "      <th></th>\n",
       "      <th></th>\n",
       "      <th></th>\n",
       "      <th></th>\n",
       "    </tr>\n",
       "  </thead>\n",
       "  <tbody>\n",
       "    <tr>\n",
       "      <th>2015-02-25 00:00:00-05:00</th>\n",
       "      <td>6.968150</td>\n",
       "      <td>7.179029</td>\n",
       "      <td>6.958982</td>\n",
       "      <td>7.096511</td>\n",
       "      <td>5300</td>\n",
       "      <td>0.00</td>\n",
       "      <td>0.0</td>\n",
       "    </tr>\n",
       "    <tr>\n",
       "      <th>2015-02-26 00:00:00-05:00</th>\n",
       "      <td>7.334895</td>\n",
       "      <td>7.334895</td>\n",
       "      <td>6.894801</td>\n",
       "      <td>7.234040</td>\n",
       "      <td>23600</td>\n",
       "      <td>0.00</td>\n",
       "      <td>0.0</td>\n",
       "    </tr>\n",
       "    <tr>\n",
       "      <th>2015-02-27 00:00:00-05:00</th>\n",
       "      <td>7.325727</td>\n",
       "      <td>7.334896</td>\n",
       "      <td>6.986488</td>\n",
       "      <td>6.986488</td>\n",
       "      <td>95000</td>\n",
       "      <td>0.00</td>\n",
       "      <td>0.0</td>\n",
       "    </tr>\n",
       "    <tr>\n",
       "      <th>2015-03-02 00:00:00-05:00</th>\n",
       "      <td>7.169860</td>\n",
       "      <td>7.169860</td>\n",
       "      <td>6.931476</td>\n",
       "      <td>6.949813</td>\n",
       "      <td>19400</td>\n",
       "      <td>0.00</td>\n",
       "      <td>0.0</td>\n",
       "    </tr>\n",
       "    <tr>\n",
       "      <th>2015-03-03 00:00:00-05:00</th>\n",
       "      <td>6.931476</td>\n",
       "      <td>7.215703</td>\n",
       "      <td>6.922308</td>\n",
       "      <td>7.169860</td>\n",
       "      <td>14000</td>\n",
       "      <td>0.00</td>\n",
       "      <td>0.0</td>\n",
       "    </tr>\n",
       "    <tr>\n",
       "      <th>2015-03-04 00:00:00-05:00</th>\n",
       "      <td>7.234040</td>\n",
       "      <td>7.637460</td>\n",
       "      <td>7.114849</td>\n",
       "      <td>7.637460</td>\n",
       "      <td>98200</td>\n",
       "      <td>0.00</td>\n",
       "      <td>0.0</td>\n",
       "    </tr>\n",
       "    <tr>\n",
       "      <th>2015-03-05 00:00:00-05:00</th>\n",
       "      <td>7.655798</td>\n",
       "      <td>7.655798</td>\n",
       "      <td>7.389908</td>\n",
       "      <td>7.545774</td>\n",
       "      <td>18700</td>\n",
       "      <td>0.00</td>\n",
       "      <td>0.0</td>\n",
       "    </tr>\n",
       "    <tr>\n",
       "      <th>2015-03-06 00:00:00-05:00</th>\n",
       "      <td>7.573280</td>\n",
       "      <td>7.655798</td>\n",
       "      <td>7.426582</td>\n",
       "      <td>7.545774</td>\n",
       "      <td>11200</td>\n",
       "      <td>0.00</td>\n",
       "      <td>0.0</td>\n",
       "    </tr>\n",
       "    <tr>\n",
       "      <th>2015-03-09 00:00:00-04:00</th>\n",
       "      <td>7.518269</td>\n",
       "      <td>7.646630</td>\n",
       "      <td>7.426583</td>\n",
       "      <td>7.619124</td>\n",
       "      <td>20300</td>\n",
       "      <td>0.00</td>\n",
       "      <td>0.0</td>\n",
       "    </tr>\n",
       "    <tr>\n",
       "      <th>2015-03-10 00:00:00-04:00</th>\n",
       "      <td>7.655797</td>\n",
       "      <td>7.655797</td>\n",
       "      <td>7.399075</td>\n",
       "      <td>7.646628</td>\n",
       "      <td>52300</td>\n",
       "      <td>0.00</td>\n",
       "      <td>0.0</td>\n",
       "    </tr>\n",
       "    <tr>\n",
       "      <th>2015-03-11 00:00:00-04:00</th>\n",
       "      <td>7.655798</td>\n",
       "      <td>7.655798</td>\n",
       "      <td>7.307390</td>\n",
       "      <td>7.344065</td>\n",
       "      <td>31400</td>\n",
       "      <td>0.00</td>\n",
       "      <td>0.0</td>\n",
       "    </tr>\n",
       "    <tr>\n",
       "      <th>2015-03-12 00:00:00-04:00</th>\n",
       "      <td>7.600787</td>\n",
       "      <td>7.600787</td>\n",
       "      <td>7.316560</td>\n",
       "      <td>7.316560</td>\n",
       "      <td>16000</td>\n",
       "      <td>0.00</td>\n",
       "      <td>0.0</td>\n",
       "    </tr>\n",
       "    <tr>\n",
       "      <th>2015-03-13 00:00:00-04:00</th>\n",
       "      <td>7.444918</td>\n",
       "      <td>7.545773</td>\n",
       "      <td>7.023162</td>\n",
       "      <td>7.142354</td>\n",
       "      <td>24700</td>\n",
       "      <td>0.00</td>\n",
       "      <td>0.0</td>\n",
       "    </tr>\n",
       "    <tr>\n",
       "      <th>2015-03-16 00:00:00-04:00</th>\n",
       "      <td>7.151524</td>\n",
       "      <td>7.334896</td>\n",
       "      <td>7.105680</td>\n",
       "      <td>7.224873</td>\n",
       "      <td>29500</td>\n",
       "      <td>0.00</td>\n",
       "      <td>0.0</td>\n",
       "    </tr>\n",
       "    <tr>\n",
       "      <th>2015-03-17 00:00:00-04:00</th>\n",
       "      <td>7.261546</td>\n",
       "      <td>7.353232</td>\n",
       "      <td>7.087342</td>\n",
       "      <td>7.334895</td>\n",
       "      <td>17500</td>\n",
       "      <td>0.00</td>\n",
       "      <td>0.0</td>\n",
       "    </tr>\n",
       "    <tr>\n",
       "      <th>2015-03-18 00:00:00-04:00</th>\n",
       "      <td>7.408613</td>\n",
       "      <td>7.436257</td>\n",
       "      <td>7.288822</td>\n",
       "      <td>7.371754</td>\n",
       "      <td>13100</td>\n",
       "      <td>0.04</td>\n",
       "      <td>0.0</td>\n",
       "    </tr>\n",
       "    <tr>\n",
       "      <th>2015-03-19 00:00:00-04:00</th>\n",
       "      <td>7.399398</td>\n",
       "      <td>7.648195</td>\n",
       "      <td>7.399398</td>\n",
       "      <td>7.620552</td>\n",
       "      <td>57300</td>\n",
       "      <td>0.00</td>\n",
       "      <td>0.0</td>\n",
       "    </tr>\n",
       "    <tr>\n",
       "      <th>2015-03-20 00:00:00-04:00</th>\n",
       "      <td>7.592905</td>\n",
       "      <td>7.685053</td>\n",
       "      <td>7.417827</td>\n",
       "      <td>7.519188</td>\n",
       "      <td>29300</td>\n",
       "      <td>0.00</td>\n",
       "      <td>0.0</td>\n",
       "    </tr>\n",
       "    <tr>\n",
       "      <th>2015-03-23 00:00:00-04:00</th>\n",
       "      <td>7.592906</td>\n",
       "      <td>7.592906</td>\n",
       "      <td>7.537618</td>\n",
       "      <td>7.565262</td>\n",
       "      <td>17500</td>\n",
       "      <td>0.00</td>\n",
       "      <td>0.0</td>\n",
       "    </tr>\n",
       "    <tr>\n",
       "      <th>2015-03-24 00:00:00-04:00</th>\n",
       "      <td>7.694269</td>\n",
       "      <td>7.694269</td>\n",
       "      <td>7.574478</td>\n",
       "      <td>7.685054</td>\n",
       "      <td>31800</td>\n",
       "      <td>0.00</td>\n",
       "      <td>0.0</td>\n",
       "    </tr>\n",
       "  </tbody>\n",
       "</table>\n",
       "</div>"
      ],
      "text/plain": [
       "                               Open      High       Low     Close  Volume  \\\n",
       "Date                                                                        \n",
       "2015-02-25 00:00:00-05:00  6.968150  7.179029  6.958982  7.096511    5300   \n",
       "2015-02-26 00:00:00-05:00  7.334895  7.334895  6.894801  7.234040   23600   \n",
       "2015-02-27 00:00:00-05:00  7.325727  7.334896  6.986488  6.986488   95000   \n",
       "2015-03-02 00:00:00-05:00  7.169860  7.169860  6.931476  6.949813   19400   \n",
       "2015-03-03 00:00:00-05:00  6.931476  7.215703  6.922308  7.169860   14000   \n",
       "2015-03-04 00:00:00-05:00  7.234040  7.637460  7.114849  7.637460   98200   \n",
       "2015-03-05 00:00:00-05:00  7.655798  7.655798  7.389908  7.545774   18700   \n",
       "2015-03-06 00:00:00-05:00  7.573280  7.655798  7.426582  7.545774   11200   \n",
       "2015-03-09 00:00:00-04:00  7.518269  7.646630  7.426583  7.619124   20300   \n",
       "2015-03-10 00:00:00-04:00  7.655797  7.655797  7.399075  7.646628   52300   \n",
       "2015-03-11 00:00:00-04:00  7.655798  7.655798  7.307390  7.344065   31400   \n",
       "2015-03-12 00:00:00-04:00  7.600787  7.600787  7.316560  7.316560   16000   \n",
       "2015-03-13 00:00:00-04:00  7.444918  7.545773  7.023162  7.142354   24700   \n",
       "2015-03-16 00:00:00-04:00  7.151524  7.334896  7.105680  7.224873   29500   \n",
       "2015-03-17 00:00:00-04:00  7.261546  7.353232  7.087342  7.334895   17500   \n",
       "2015-03-18 00:00:00-04:00  7.408613  7.436257  7.288822  7.371754   13100   \n",
       "2015-03-19 00:00:00-04:00  7.399398  7.648195  7.399398  7.620552   57300   \n",
       "2015-03-20 00:00:00-04:00  7.592905  7.685053  7.417827  7.519188   29300   \n",
       "2015-03-23 00:00:00-04:00  7.592906  7.592906  7.537618  7.565262   17500   \n",
       "2015-03-24 00:00:00-04:00  7.694269  7.694269  7.574478  7.685054   31800   \n",
       "\n",
       "                           Dividends  Stock Splits  \n",
       "Date                                                \n",
       "2015-02-25 00:00:00-05:00       0.00           0.0  \n",
       "2015-02-26 00:00:00-05:00       0.00           0.0  \n",
       "2015-02-27 00:00:00-05:00       0.00           0.0  \n",
       "2015-03-02 00:00:00-05:00       0.00           0.0  \n",
       "2015-03-03 00:00:00-05:00       0.00           0.0  \n",
       "2015-03-04 00:00:00-05:00       0.00           0.0  \n",
       "2015-03-05 00:00:00-05:00       0.00           0.0  \n",
       "2015-03-06 00:00:00-05:00       0.00           0.0  \n",
       "2015-03-09 00:00:00-04:00       0.00           0.0  \n",
       "2015-03-10 00:00:00-04:00       0.00           0.0  \n",
       "2015-03-11 00:00:00-04:00       0.00           0.0  \n",
       "2015-03-12 00:00:00-04:00       0.00           0.0  \n",
       "2015-03-13 00:00:00-04:00       0.00           0.0  \n",
       "2015-03-16 00:00:00-04:00       0.00           0.0  \n",
       "2015-03-17 00:00:00-04:00       0.00           0.0  \n",
       "2015-03-18 00:00:00-04:00       0.04           0.0  \n",
       "2015-03-19 00:00:00-04:00       0.00           0.0  \n",
       "2015-03-20 00:00:00-04:00       0.00           0.0  \n",
       "2015-03-23 00:00:00-04:00       0.00           0.0  \n",
       "2015-03-24 00:00:00-04:00       0.00           0.0  "
      ]
     },
     "execution_count": 5,
     "metadata": {},
     "output_type": "execute_result"
    }
   ],
   "source": [
    "hist = lmat.history(start=\"2015-02-25\", end=\"2015-03-25\")\n",
    "hist"
   ]
  }
 ],
 "metadata": {
  "kernelspec": {
   "display_name": "cf-env",
   "language": "python",
   "name": "python3"
  },
  "language_info": {
   "codemirror_mode": {
    "name": "ipython",
    "version": 3
   },
   "file_extension": ".py",
   "mimetype": "text/x-python",
   "name": "python",
   "nbconvert_exporter": "python",
   "pygments_lexer": "ipython3",
   "version": "3.9.15"
  },
  "orig_nbformat": 4
 },
 "nbformat": 4,
 "nbformat_minor": 2
}
